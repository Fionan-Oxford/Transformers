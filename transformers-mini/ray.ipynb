{
 "cells": [
  {
   "cell_type": "code",
   "execution_count": 1,
   "id": "31e88b8c",
   "metadata": {},
   "outputs": [
    {
     "name": "stderr",
     "output_type": "stream",
     "text": [
      "c:\\Users\\fiona\\Documents\\GitHub\\Transformers\\transformers-mini\\.venv312\\Lib\\site-packages\\tqdm\\auto.py:21: TqdmWarning: IProgress not found. Please update jupyter and ipywidgets. See https://ipywidgets.readthedocs.io/en/stable/user_install.html\n",
      "  from .autonotebook import tqdm as notebook_tqdm\n",
      "2025-09-08 18:22:04,350\tINFO util.py:154 -- Missing packages: ['ipywidgets']. Run `pip install -U ipywidgets`, then restart the notebook server for rich notebook output.\n",
      "2025-09-08 18:22:07,555\tINFO worker.py:1951 -- Started a local Ray instance.\n"
     ]
    },
    {
     "data": {
      "text/html": [
       "<div class=\"lm-Widget p-Widget lm-Panel p-Panel jp-Cell-outputWrapper\">\n",
       "    <div style=\"margin-left: 50px;display: flex;flex-direction: row;align-items: center\">\n",
       "        <div class=\"jp-RenderedHTMLCommon\" style=\"display: flex; flex-direction: row;\">\n",
       "  <svg viewBox=\"0 0 567 224\" fill=\"none\" xmlns=\"http://www.w3.org/2000/svg\" style=\"height: 3em;\">\n",
       "    <g clip-path=\"url(#clip0_4338_178347)\">\n",
       "        <path d=\"M341.29 165.561H355.29L330.13 129.051C345.63 123.991 354.21 112.051 354.21 94.2307C354.21 71.3707 338.72 58.1807 311.88 58.1807H271V165.561H283.27V131.661H311.8C314.25 131.661 316.71 131.501 319.01 131.351L341.25 165.561H341.29ZM283.29 119.851V70.0007H311.82C331.3 70.0007 342.34 78.2907 342.34 94.5507C342.34 111.271 331.34 119.861 311.82 119.861L283.29 119.851ZM451.4 138.411L463.4 165.561H476.74L428.74 58.1807H416L367.83 165.561H380.83L392.83 138.411H451.4ZM446.19 126.601H398L422 72.1407L446.24 126.601H446.19ZM526.11 128.741L566.91 58.1807H554.35L519.99 114.181L485.17 58.1807H472.44L514.01 129.181V165.541H526.13V128.741H526.11Z\" fill=\"var(--jp-ui-font-color0)\"/>\n",
       "        <path d=\"M82.35 104.44C84.0187 97.8827 87.8248 92.0678 93.1671 87.9146C98.5094 83.7614 105.083 81.5067 111.85 81.5067C118.617 81.5067 125.191 83.7614 130.533 87.9146C135.875 92.0678 139.681 97.8827 141.35 104.44H163.75C164.476 101.562 165.622 98.8057 167.15 96.2605L127.45 56.5605C121.071 60.3522 113.526 61.6823 106.235 60.3005C98.9443 58.9187 92.4094 54.9203 87.8602 49.0574C83.3109 43.1946 81.0609 35.8714 81.5332 28.4656C82.0056 21.0599 85.1679 14.0819 90.4252 8.8446C95.6824 3.60726 102.672 0.471508 110.08 0.0272655C117.487 -0.416977 124.802 1.86091 130.647 6.4324C136.493 11.0039 140.467 17.5539 141.821 24.8501C143.175 32.1463 141.816 39.6859 138 46.0505L177.69 85.7505C182.31 82.9877 187.58 81.4995 192.962 81.4375C198.345 81.3755 203.648 82.742 208.33 85.3976C213.012 88.0532 216.907 91.9029 219.616 96.5544C222.326 101.206 223.753 106.492 223.753 111.875C223.753 117.258 222.326 122.545 219.616 127.197C216.907 131.848 213.012 135.698 208.33 138.353C203.648 141.009 198.345 142.375 192.962 142.313C187.58 142.251 182.31 140.763 177.69 138L138 177.7C141.808 184.071 143.155 191.614 141.79 198.91C140.424 206.205 136.44 212.75 130.585 217.313C124.731 221.875 117.412 224.141 110.004 223.683C102.596 223.226 95.6103 220.077 90.3621 214.828C85.1139 209.58 81.9647 202.595 81.5072 195.187C81.0497 187.779 83.3154 180.459 87.878 174.605C92.4405 168.751 98.9853 164.766 106.281 163.401C113.576 162.035 121.119 163.383 127.49 167.19L167.19 127.49C165.664 124.941 164.518 122.182 163.79 119.3H141.39C139.721 125.858 135.915 131.673 130.573 135.826C125.231 139.98 118.657 142.234 111.89 142.234C105.123 142.234 98.5494 139.98 93.2071 135.826C87.8648 131.673 84.0587 125.858 82.39 119.3H60C58.1878 126.495 53.8086 132.78 47.6863 136.971C41.5641 141.163 34.1211 142.972 26.7579 142.059C19.3947 141.146 12.6191 137.574 7.70605 132.014C2.79302 126.454 0.0813599 119.29 0.0813599 111.87C0.0813599 104.451 2.79302 97.2871 7.70605 91.7272C12.6191 86.1673 19.3947 82.5947 26.7579 81.6817C34.1211 80.7686 41.5641 82.5781 47.6863 86.7696C53.8086 90.9611 58.1878 97.2456 60 104.44H82.35ZM100.86 204.32C103.407 206.868 106.759 208.453 110.345 208.806C113.93 209.159 117.527 208.258 120.522 206.256C123.517 204.254 125.725 201.276 126.771 197.828C127.816 194.38 127.633 190.677 126.253 187.349C124.874 184.021 122.383 181.274 119.205 179.577C116.027 177.88 112.359 177.337 108.826 178.042C105.293 178.746 102.113 180.654 99.8291 183.44C97.5451 186.226 96.2979 189.718 96.3 193.32C96.2985 195.364 96.7006 197.388 97.4831 199.275C98.2656 201.163 99.4132 202.877 100.86 204.32ZM204.32 122.88C206.868 120.333 208.453 116.981 208.806 113.396C209.159 109.811 208.258 106.214 206.256 103.219C204.254 100.223 201.275 98.0151 197.827 96.97C194.38 95.9249 190.676 96.1077 187.348 97.4873C184.02 98.8669 181.274 101.358 179.577 104.536C177.879 107.714 177.337 111.382 178.041 114.915C178.746 118.448 180.653 121.627 183.439 123.911C186.226 126.195 189.717 127.443 193.32 127.44C195.364 127.443 197.388 127.042 199.275 126.259C201.163 125.476 202.878 124.328 204.32 122.88ZM122.88 19.4205C120.333 16.8729 116.981 15.2876 113.395 14.9347C109.81 14.5817 106.213 15.483 103.218 17.4849C100.223 19.4868 98.0146 22.4654 96.9696 25.9131C95.9245 29.3608 96.1073 33.0642 97.4869 36.3922C98.8665 39.7202 101.358 42.4668 104.535 44.1639C107.713 45.861 111.381 46.4036 114.914 45.6992C118.447 44.9949 121.627 43.0871 123.911 40.301C126.195 37.515 127.442 34.0231 127.44 30.4205C127.44 28.3772 127.038 26.3539 126.255 24.4664C125.473 22.5788 124.326 20.8642 122.88 19.4205ZM19.42 100.86C16.8725 103.408 15.2872 106.76 14.9342 110.345C14.5813 113.93 15.4826 117.527 17.4844 120.522C19.4863 123.518 22.4649 125.726 25.9127 126.771C29.3604 127.816 33.0638 127.633 36.3918 126.254C39.7198 124.874 42.4664 122.383 44.1635 119.205C45.8606 116.027 46.4032 112.359 45.6988 108.826C44.9944 105.293 43.0866 102.114 40.3006 99.8296C37.5145 97.5455 34.0227 96.2983 30.42 96.3005C26.2938 96.3018 22.337 97.9421 19.42 100.86ZM100.86 100.86C98.3125 103.408 96.7272 106.76 96.3742 110.345C96.0213 113.93 96.9226 117.527 98.9244 120.522C100.926 123.518 103.905 125.726 107.353 126.771C110.8 127.816 114.504 127.633 117.832 126.254C121.16 124.874 123.906 122.383 125.604 119.205C127.301 116.027 127.843 112.359 127.139 108.826C126.434 105.293 124.527 102.114 121.741 99.8296C118.955 97.5455 115.463 96.2983 111.86 96.3005C109.817 96.299 107.793 96.701 105.905 97.4835C104.018 98.2661 102.303 99.4136 100.86 100.86Z\" fill=\"#00AEEF\"/>\n",
       "    </g>\n",
       "    <defs>\n",
       "        <clipPath id=\"clip0_4338_178347\">\n",
       "            <rect width=\"566.93\" height=\"223.75\" fill=\"white\"/>\n",
       "        </clipPath>\n",
       "    </defs>\n",
       "  </svg>\n",
       "</div>\n",
       "\n",
       "        <table class=\"jp-RenderedHTMLCommon\" style=\"border-collapse: collapse;color: var(--jp-ui-font-color1);font-size: var(--jp-ui-font-size1);\">\n",
       "    <tr>\n",
       "        <td style=\"text-align: left\"><b>Python version:</b></td>\n",
       "        <td style=\"text-align: left\"><b>3.12.10</b></td>\n",
       "    </tr>\n",
       "    <tr>\n",
       "        <td style=\"text-align: left\"><b>Ray version:</b></td>\n",
       "        <td style=\"text-align: left\"><b>2.49.1</b></td>\n",
       "    </tr>\n",
       "    \n",
       "</table>\n",
       "\n",
       "    </div>\n",
       "</div>\n"
      ],
      "text/plain": [
       "RayContext(dashboard_url='', python_version='3.12.10', ray_version='2.49.1', ray_commit='c057f1ea836f3e93f110e895029caa32136fc156')"
      ]
     },
     "execution_count": 1,
     "metadata": {},
     "output_type": "execute_result"
    }
   ],
   "source": [
    "import ray, sys, platform\n",
    "ray.shutdown()\n",
    "ray.init()\n"
   ]
  },
  {
   "cell_type": "code",
   "execution_count": null,
   "id": "d6198f3f",
   "metadata": {},
   "outputs": [
    {
     "name": "stdout",
     "output_type": "stream",
     "text": [
      "Results: [(0, 46664), (1, 41872), (4, 52524), (9, 47132), (16, 4000), (25, 26024), (36, 31560), (49, 42408)]\n",
      "TIme: 0.21s\n"
     ]
    }
   ],
   "source": [
    "#Adding @remote turns a function into a task\n",
    "#calling .remote() returns a future\n",
    "#Ray tasks run concurrent cross CPUs\n",
    "\n",
    "import ray, time, os\n",
    "\n",
    "@ray.remote\n",
    "def slow_square(x):\n",
    "    time.sleep(0.2)\n",
    "    return (x*x, os.getpid())\n",
    "\n",
    "t0 = time.perf_counter()\n",
    "futs = [slow_square.remote(i) for i in range(8)]\n",
    "vals = ray.get(futs)\n",
    "\n",
    "print(f\"Results: {vals}\")\n",
    "print(f\"TIme: {time.perf_counter() - t0:.2f}s\")"
   ]
  },
  {
   "cell_type": "code",
   "execution_count": 20,
   "id": "9275d94d",
   "metadata": {},
   "outputs": [
    {
     "name": "stdout",
     "output_type": "stream",
     "text": [
      "[499999500000, 499999500000] ... (all sums equal)\n"
     ]
    }
   ],
   "source": [
    "# Ray put and Ray get\n",
    "\n",
    "big = list(range(1000000))\n",
    "ref = ray.put(big)\n",
    "\n",
    "@ray.remote\n",
    "def sum_ref(r): return sum(r)\n",
    "\n",
    "futs = [sum_ref.remote(ref) for _ in range(4)]\n",
    "\n",
    "print(ray.get(futs)[:2], \"... (all sums equal)\")"
   ]
  },
  {
   "cell_type": "code",
   "execution_count": null,
   "id": "c1bf817c",
   "metadata": {},
   "outputs": [
    {
     "name": "stdout",
     "output_type": "stream",
     "text": [
      "First Done [1, 3, 6]\n"
     ]
    }
   ],
   "source": [
    "# Ray wait lets you stream results as they come. Perfect for pipelines\n",
    "\n",
    "import random\n",
    "\n",
    "@ray.remote\n",
    "def jitter(x):\n",
    "    time.sleep(random.uniform(0.0, 0.5))\n",
    "    return x\n",
    "\n",
    "futs = [jitter.remote(i) for i in range(10)]\n",
    "done, pending = ray.wait(futs, num_returns=3)\n",
    "print(f\"First Done {ray.get(done)}\")"
   ]
  },
  {
   "cell_type": "code",
   "execution_count": 26,
   "id": "89e38a0a",
   "metadata": {},
   "outputs": [
    {
     "name": "stdout",
     "output_type": "stream",
     "text": [
      "Some tasks failed after retries: \u001b[36mray::flaky()\u001b[39m (pid=52524, ip=127.0.0.1)\n",
      "  File \"python\\\\ray\\\\_raylet.pyx\", line 1936, in ray._raylet.execute_task\n",
      "  File \"C:\\Users\\fiona\\AppData\\Local\\Temp\\ipykernel_1392\\1460381954.py\", line 6, in flaky\n",
      "RuntimeError: boom\n",
      "Cancelled long task.\n"
     ]
    },
    {
     "name": "stderr",
     "output_type": "stream",
     "text": [
      "2025-09-08 18:45:07,471\tERROR worker.py:429 -- Unhandled error (suppress with 'RAY_IGNORE_UNHANDLED_ERRORS=1'): \u001b[36mray::flaky()\u001b[39m (pid=26024, ip=127.0.0.1)\n",
      "  File \"python\\\\ray\\\\_raylet.pyx\", line 1936, in ray._raylet.execute_task\n",
      "  File \"C:\\Users\\fiona\\AppData\\Local\\Temp\\ipykernel_1392\\1460381954.py\", line 6, in flaky\n",
      "RuntimeError: boom\n"
     ]
    }
   ],
   "source": [
    "# Retreis, timeouts and cancellations\n",
    "\n",
    "@ray.remote(max_retries=2)\n",
    "def flaky(i):\n",
    "    if i % 3 == 0:\n",
    "        raise RuntimeError(\"boom\")\n",
    "    return i\n",
    "\n",
    "futs = [flaky.remote(i) for i in  range(6)]\n",
    "\n",
    "try:\n",
    "    print(ray.get(futs))\n",
    "except ray.exceptions.RayTaskError as e:\n",
    "    print(\"Some tasks failed after retries:\", e)\n",
    "    \n",
    "    \n",
    "\n",
    "# timeout & cancel example\n",
    "@ray.remote\n",
    "def sleepy(): time.sleep(5); return \"done\"\n",
    "\n",
    "f = sleepy.remote()\n",
    "ready, pending = ray.wait([f], timeout=1.0)\n",
    "if pending:\n",
    "    ray.cancel(f, force=True)\n",
    "    print(\"Cancelled long task.\")\n",
    "    \n",
    "    "
   ]
  },
  {
   "cell_type": "code",
   "execution_count": 32,
   "id": "4860a838",
   "metadata": {},
   "outputs": [
    {
     "name": "stdout",
     "output_type": "stream",
     "text": [
      "Wall time groups by 4-CPU slots -> 1.01s\n"
     ]
    }
   ],
   "source": [
    "# Resource aware scheduling\n",
    "\n",
    "@ray.remote(num_cpus = 4)\n",
    "def heavy(i):\n",
    "    time.sleep(0.5)\n",
    "    return i\n",
    "\n",
    "t0 = time.perf_counter()\n",
    "futs = [heavy.remote(i) for i in range(8)]\n",
    "ray.get(futs)\n",
    "\n",
    "print(f\"Wall time groups by 4-CPU slots -> {time.perf_counter()-t0:.2f}s\")\n"
   ]
  },
  {
   "cell_type": "code",
   "execution_count": 33,
   "id": "4eb15368",
   "metadata": {},
   "outputs": [
    {
     "name": "stdout",
     "output_type": "stream",
     "text": [
      "[1, 2, 3]\n",
      "Final 3\n"
     ]
    }
   ],
   "source": [
    "#Statefull agents\n",
    "\n",
    "@ray.remote\n",
    "class Counter:\n",
    "    def __init__(self): self.n = 0\n",
    "    def inc(self, k=1):\n",
    "        self.n += k\n",
    "        return self.n\n",
    "    def get(self): return self.n\n",
    "    \n",
    "c = Counter.remote()\n",
    "print(ray.get([c.inc.remote() for _ in range(3)]))\n",
    "\n",
    "print(f\"Final {ray.get(c.get.remote())}\")\n"
   ]
  },
  {
   "cell_type": "code",
   "execution_count": 38,
   "id": "ad25ea20",
   "metadata": {},
   "outputs": [
    {
     "name": "stdout",
     "output_type": "stream",
     "text": [
      "First 5: [0, 2, 4]\n"
     ]
    }
   ],
   "source": [
    "# Actor Concurrency\n",
    "@ray.remote(max_concurrency = 4)\n",
    "class Adder:\n",
    "    def add(self, x, y):\n",
    "        time.sleep(0.2)\n",
    "        return x + y\n",
    "    \n",
    "a = Adder.remote()\n",
    "futs = [a.add.remote(i,i) for i in range(12)]\n",
    "print(\"First 5:\", ray.get(futs[:3]))\n"
   ]
  },
  {
   "cell_type": "code",
   "execution_count": 43,
   "id": "bd29766a",
   "metadata": {},
   "outputs": [
    {
     "name": "stdout",
     "output_type": "stream",
     "text": [
      "(12652, 'I hold the GPU')\n"
     ]
    }
   ],
   "source": [
    "@ray.remote(num_gpus=1)\n",
    "class GPUHolder:\n",
    "    def where(self):\n",
    "        import os\n",
    "        return (os.getpid(), \"I hold the GPU\")\n",
    "g = GPUHolder.remote()\n",
    "print(ray.get(g.where.remote()))"
   ]
  },
  {
   "cell_type": "code",
   "execution_count": 45,
   "id": "4ec1850b",
   "metadata": {},
   "outputs": [
    {
     "name": "stdout",
     "output_type": "stream",
     "text": [
      "Batched results: [0, 1, 4, 9, 16, 25, 36, 49, 64, 81]\n"
     ]
    }
   ],
   "source": [
    "# A batched gateway pattern\n",
    "import asyncio\n",
    "\n",
    "@ray.remote\n",
    "class Batcher:\n",
    "    def __init__(self, max_batch=8, flush_ms=50):\n",
    "        self.queue = []\n",
    "        self.max_batch = max_batch\n",
    "        self.flush_ms = flush_ms\n",
    "\n",
    "    async def submit(self, x):\n",
    "        loop = asyncio.get_event_loop()\n",
    "        fut = loop.create_future()\n",
    "        self.queue.append((x, fut))\n",
    "        if len(self.queue) >= self.max_batch:\n",
    "            await self._flush()\n",
    "        else:\n",
    "            # timer-based flush\n",
    "            loop.call_later(self.flush_ms/1000.0, lambda: asyncio.create_task(self._flush()))\n",
    "        return await fut\n",
    "\n",
    "    async def _flush(self):\n",
    "        if not self.queue: \n",
    "            return\n",
    "        batch, self.queue = self.queue, []\n",
    "        xs = [x for x,_ in batch]\n",
    "        # \"process\" the batch in one go (here just square)\n",
    "        ys = [x*x for x in xs]\n",
    "        for (_, fut), y in zip(batch, ys):\n",
    "            if not fut.done(): fut.set_result(y)\n",
    "\n",
    "b = Batcher.remote(max_batch=4, flush_ms=30)\n",
    "futs = [b.submit.remote(i) for i in range(10)]\n",
    "print(\"Batched results:\", ray.get(futs))\n"
   ]
  },
  {
   "cell_type": "code",
   "execution_count": 47,
   "id": "8c22a371",
   "metadata": {},
   "outputs": [
    {
     "data": {
      "text/html": [
       "<div class=\"tuneStatus\">\n",
       "  <div style=\"display: flex;flex-direction: row\">\n",
       "    <div style=\"display: flex;flex-direction: column;\">\n",
       "      <h3>Tune Status</h3>\n",
       "      <table>\n",
       "<tbody>\n",
       "<tr><td>Current time:</td><td>2025-09-08 19:14:12</td></tr>\n",
       "<tr><td>Running for: </td><td>00:00:05.20        </td></tr>\n",
       "<tr><td>Memory:      </td><td>13.7/15.7 GiB      </td></tr>\n",
       "</tbody>\n",
       "</table>\n",
       "    </div>\n",
       "    <div class=\"vDivider\"></div>\n",
       "    <div class=\"systemInfo\">\n",
       "      <h3>System Info</h3>\n",
       "      Using FIFO scheduling algorithm.<br>Logical resource usage: 5.0/20 CPUs, 0/1 GPUs (0.0/1.0 accelerator_type:G)\n",
       "    </div>\n",
       "    \n",
       "  </div>\n",
       "  <div class=\"hDivider\"></div>\n",
       "  <div class=\"trialStatus\">\n",
       "    <h3>Trial Status</h3>\n",
       "    <table>\n",
       "<thead>\n",
       "<tr><th>Trial name           </th><th>status    </th><th>loc            </th><th style=\"text-align: right;\">        x</th><th style=\"text-align: right;\">  iter</th><th style=\"text-align: right;\">  total time (s)</th><th style=\"text-align: right;\">        loss</th></tr>\n",
       "</thead>\n",
       "<tbody>\n",
       "<tr><td>objective_9c643_00000</td><td>TERMINATED</td><td>127.0.0.1:9244 </td><td style=\"text-align: right;\">-0.578285</td><td style=\"text-align: right;\">     1</td><td style=\"text-align: right;\">        0.102486</td><td style=\"text-align: right;\">12.795      </td></tr>\n",
       "<tr><td>objective_9c643_00001</td><td>TERMINATED</td><td>127.0.0.1:39616</td><td style=\"text-align: right;\">-0.843782</td><td style=\"text-align: right;\">     1</td><td style=\"text-align: right;\">        0.10178 </td><td style=\"text-align: right;\">14.7661     </td></tr>\n",
       "<tr><td>objective_9c643_00002</td><td>TERMINATED</td><td>127.0.0.1:36932</td><td style=\"text-align: right;\"> 0.170927</td><td style=\"text-align: right;\">     1</td><td style=\"text-align: right;\">        0.100817</td><td style=\"text-align: right;\"> 7.99845    </td></tr>\n",
       "<tr><td>objective_9c643_00003</td><td>TERMINATED</td><td>127.0.0.1:51920</td><td style=\"text-align: right;\"> 0.924318</td><td style=\"text-align: right;\">     1</td><td style=\"text-align: right;\">        0.101796</td><td style=\"text-align: right;\"> 4.32576    </td></tr>\n",
       "<tr><td>objective_9c643_00004</td><td>TERMINATED</td><td>127.0.0.1:5180 </td><td style=\"text-align: right;\">-0.284215</td><td style=\"text-align: right;\">     1</td><td style=\"text-align: right;\">        0.10123 </td><td style=\"text-align: right;\">10.799      </td></tr>\n",
       "<tr><td>objective_9c643_00005</td><td>TERMINATED</td><td>127.0.0.1:48628</td><td style=\"text-align: right;\">-4.03419 </td><td style=\"text-align: right;\">     1</td><td style=\"text-align: right;\">        0.101094</td><td style=\"text-align: right;\">49.4921     </td></tr>\n",
       "<tr><td>objective_9c643_00006</td><td>TERMINATED</td><td>127.0.0.1:28500</td><td style=\"text-align: right;\">-2.08403 </td><td style=\"text-align: right;\">     1</td><td style=\"text-align: right;\">        0.102021</td><td style=\"text-align: right;\">25.8505     </td></tr>\n",
       "<tr><td>objective_9c643_00007</td><td>TERMINATED</td><td>127.0.0.1:15060</td><td style=\"text-align: right;\"> 1.54617 </td><td style=\"text-align: right;\">     1</td><td style=\"text-align: right;\">        0.101331</td><td style=\"text-align: right;\"> 2.10525    </td></tr>\n",
       "<tr><td>objective_9c643_00008</td><td>TERMINATED</td><td>127.0.0.1:25920</td><td style=\"text-align: right;\">-2.8935  </td><td style=\"text-align: right;\">     1</td><td style=\"text-align: right;\">        0.101118</td><td style=\"text-align: right;\">34.7225     </td></tr>\n",
       "<tr><td>objective_9c643_00009</td><td>TERMINATED</td><td>127.0.0.1:5776 </td><td style=\"text-align: right;\"> 2.93857 </td><td style=\"text-align: right;\">     1</td><td style=\"text-align: right;\">        0.101298</td><td style=\"text-align: right;\">-0.000407724</td></tr>\n",
       "<tr><td>objective_9c643_00010</td><td>TERMINATED</td><td>127.0.0.1:27184</td><td style=\"text-align: right;\">-2.76433 </td><td style=\"text-align: right;\">     1</td><td style=\"text-align: right;\">        0.101527</td><td style=\"text-align: right;\">33.2418     </td></tr>\n",
       "<tr><td>objective_9c643_00011</td><td>TERMINATED</td><td>127.0.0.1:21916</td><td style=\"text-align: right;\"> 3.5343  </td><td style=\"text-align: right;\">     1</td><td style=\"text-align: right;\">        0.102597</td><td style=\"text-align: right;\"> 0.284838   </td></tr>\n",
       "<tr><td>objective_9c643_00012</td><td>TERMINATED</td><td>127.0.0.1:43700</td><td style=\"text-align: right;\">-3.76874 </td><td style=\"text-align: right;\">     1</td><td style=\"text-align: right;\">        0.101244</td><td style=\"text-align: right;\">45.8168     </td></tr>\n",
       "<tr><td>objective_9c643_00013</td><td>TERMINATED</td><td>127.0.0.1:40092</td><td style=\"text-align: right;\">-2.94421 </td><td style=\"text-align: right;\">     1</td><td style=\"text-align: right;\">        0.100895</td><td style=\"text-align: right;\">35.3526     </td></tr>\n",
       "<tr><td>objective_9c643_00014</td><td>TERMINATED</td><td>127.0.0.1:6456 </td><td style=\"text-align: right;\">-3.04381 </td><td style=\"text-align: right;\">     1</td><td style=\"text-align: right;\">        0.101336</td><td style=\"text-align: right;\">36.5277     </td></tr>\n",
       "<tr><td>objective_9c643_00015</td><td>TERMINATED</td><td>127.0.0.1:19476</td><td style=\"text-align: right;\"> 2.86695 </td><td style=\"text-align: right;\">     1</td><td style=\"text-align: right;\">        0.101839</td><td style=\"text-align: right;\"> 0.00597383 </td></tr>\n",
       "<tr><td>objective_9c643_00016</td><td>TERMINATED</td><td>127.0.0.1:47228</td><td style=\"text-align: right;\">-3.20397 </td><td style=\"text-align: right;\">     1</td><td style=\"text-align: right;\">        0.102115</td><td style=\"text-align: right;\">38.4711     </td></tr>\n",
       "<tr><td>objective_9c643_00017</td><td>TERMINATED</td><td>127.0.0.1:50120</td><td style=\"text-align: right;\"> 0.189038</td><td style=\"text-align: right;\">     1</td><td style=\"text-align: right;\">        0.101272</td><td style=\"text-align: right;\"> 7.91577    </td></tr>\n",
       "<tr><td>objective_9c643_00018</td><td>TERMINATED</td><td>127.0.0.1:24924</td><td style=\"text-align: right;\">-2.43133 </td><td style=\"text-align: right;\">     1</td><td style=\"text-align: right;\">        0.101238</td><td style=\"text-align: right;\">29.493      </td></tr>\n",
       "<tr><td>objective_9c643_00019</td><td>TERMINATED</td><td>127.0.0.1:25356</td><td style=\"text-align: right;\"> 0.586356</td><td style=\"text-align: right;\">     1</td><td style=\"text-align: right;\">        0.100321</td><td style=\"text-align: right;\"> 5.83168    </td></tr>\n",
       "</tbody>\n",
       "</table>\n",
       "  </div>\n",
       "</div>\n",
       "<style>\n",
       ".tuneStatus {\n",
       "  color: var(--jp-ui-font-color1);\n",
       "}\n",
       ".tuneStatus .systemInfo {\n",
       "  display: flex;\n",
       "  flex-direction: column;\n",
       "}\n",
       ".tuneStatus td {\n",
       "  white-space: nowrap;\n",
       "}\n",
       ".tuneStatus .trialStatus {\n",
       "  display: flex;\n",
       "  flex-direction: column;\n",
       "}\n",
       ".tuneStatus h3 {\n",
       "  font-weight: bold;\n",
       "}\n",
       ".tuneStatus .hDivider {\n",
       "  border-bottom-width: var(--jp-border-width);\n",
       "  border-bottom-color: var(--jp-border-color0);\n",
       "  border-bottom-style: solid;\n",
       "}\n",
       ".tuneStatus .vDivider {\n",
       "  border-left-width: var(--jp-border-width);\n",
       "  border-left-color: var(--jp-border-color0);\n",
       "  border-left-style: solid;\n",
       "  margin: 0.5em 1em 0.5em 1em;\n",
       "}\n",
       "</style>\n"
      ],
      "text/plain": [
       "<IPython.core.display.HTML object>"
      ]
     },
     "metadata": {},
     "output_type": "display_data"
    },
    {
     "name": "stderr",
     "output_type": "stream",
     "text": [
      "\u001b[36m(objective pid=9244)\u001b[0m c:\\Users\\fiona\\Documents\\GitHub\\Transformers\\transformers-mini\\.venv312\\Lib\\site-packages\\ray\\train\\_internal\\session.py:772: RayDeprecationWarning: `ray.train.report` should be switched to `ray.tune.report` when running in a function passed to Ray Tune. This will be an error in the future. See this issue for more context: https://github.com/ray-project/ray/issues/49454\n",
      "\u001b[36m(objective pid=9244)\u001b[0m   _log_deprecation_warning(\n",
      "2025-09-08 19:14:12,990\tINFO tune.py:1009 -- Wrote the latest version of all result files and experiment state to 'C:/Users/fiona/ray_results/objective_2025-09-08_19-14-07' in 0.0428s.\n",
      "2025-09-08 19:14:13,000\tINFO tune.py:1041 -- Total run time: 5.21 seconds (5.15 seconds for the tuning loop).\n"
     ]
    },
    {
     "ename": "AttributeError",
     "evalue": "'ResultGrid' object has no attribute 'num_completed_trials'",
     "output_type": "error",
     "traceback": [
      "\u001b[31m---------------------------------------------------------------------------\u001b[39m",
      "\u001b[31mAttributeError\u001b[39m                            Traceback (most recent call last)",
      "\u001b[36mCell\u001b[39m\u001b[36m \u001b[39m\u001b[32mIn[47]\u001b[39m\u001b[32m, line 23\u001b[39m\n\u001b[32m     16\u001b[39m tuner = tune.Tuner(\n\u001b[32m     17\u001b[39m     objective,\n\u001b[32m     18\u001b[39m     param_space=search_space,\n\u001b[32m     19\u001b[39m     tune_config=tune.TuneConfig(num_samples=\u001b[32m20\u001b[39m, metric=\u001b[33m\"\u001b[39m\u001b[33mloss\u001b[39m\u001b[33m\"\u001b[39m, mode=\u001b[33m\"\u001b[39m\u001b[33mmin\u001b[39m\u001b[33m\"\u001b[39m),\n\u001b[32m     20\u001b[39m )\n\u001b[32m     21\u001b[39m results = tuner.fit()\n\u001b[32m---> \u001b[39m\u001b[32m23\u001b[39m \u001b[38;5;28mprint\u001b[39m(\u001b[33m\"\u001b[39m\u001b[33mCompleted trials:\u001b[39m\u001b[33m\"\u001b[39m, \u001b[43mresults\u001b[49m\u001b[43m.\u001b[49m\u001b[43mnum_completed_trials\u001b[49m)\n\u001b[32m     24\u001b[39m best = results.get_best_result(metric=\u001b[33m\"\u001b[39m\u001b[33mloss\u001b[39m\u001b[33m\"\u001b[39m, mode=\u001b[33m\"\u001b[39m\u001b[33mmin\u001b[39m\u001b[33m\"\u001b[39m)\n\u001b[32m     25\u001b[39m \u001b[38;5;28mprint\u001b[39m(\u001b[33m\"\u001b[39m\u001b[33mBest config:\u001b[39m\u001b[33m\"\u001b[39m, best.config, \u001b[33m\"\u001b[39m\u001b[33m| best loss:\u001b[39m\u001b[33m\"\u001b[39m, best.metrics[\u001b[33m\"\u001b[39m\u001b[33mloss\u001b[39m\u001b[33m\"\u001b[39m])\n",
      "\u001b[31mAttributeError\u001b[39m: 'ResultGrid' object has no attribute 'num_completed_trials'"
     ]
    }
   ],
   "source": [
    "%pip install -qU \"ray[tune]\"\n",
    "\n",
    "import ray, time, random\n",
    "from ray import tune\n",
    "from ray.air import session\n",
    "\n",
    "ray.shutdown(); ray.init(ignore_reinit_error=True, include_dashboard=False)\n",
    "\n",
    "def objective(cfg):\n",
    "    x = cfg[\"x\"]\n",
    "    time.sleep(0.1)\n",
    "    loss = (x - 3.0)**2 + random.uniform(-0.02, 0.02)\n",
    "    session.report({\"loss\": loss})   # <-- critical: report the metric\n",
    "\n",
    "search_space = {\"x\": tune.uniform(-5, 5)}\n",
    "tuner = tune.Tuner(\n",
    "    objective,\n",
    "    param_space=search_space,\n",
    "    tune_config=tune.TuneConfig(num_samples=20, metric=\"loss\", mode=\"min\"),\n",
    ")\n",
    "results = tuner.fit()\n",
    "\n",
    "print(\"Completed trials:\", results.num_completed_trials)\n",
    "best = results.get_best_result(metric=\"loss\", mode=\"min\")\n",
    "print(\"Best config:\", best.config, \"| best loss:\", best.metrics[\"loss\"])\n"
   ]
  },
  {
   "cell_type": "code",
   "execution_count": 48,
   "id": "42f05071",
   "metadata": {},
   "outputs": [
    {
     "name": "stderr",
     "output_type": "stream",
     "text": [
      "2025-09-08 19:16:16,965\tINFO util.py:154 -- Missing packages: ['ipywidgets']. Run `pip install -U ipywidgets`, then restart the notebook server for rich notebook output.\n"
     ]
    },
    {
     "name": "stdout",
     "output_type": "stream",
     "text": [
      "Note: you may need to restart the kernel to use updated packages.\n"
     ]
    },
    {
     "name": "stderr",
     "output_type": "stream",
     "text": [
      "2025-09-08 19:16:19,397\tINFO worker.py:1951 -- Started a local Ray instance.\n",
      "2025-09-08 19:16:20,943\tINFO tune.py:616 -- [output] This uses the legacy output and progress reporter, as Jupyter notebooks are not supported by the new engine, yet. For more information, please see https://github.com/ray-project/ray/issues/36949\n",
      "2025-09-08 19:16:20,950\tINFO data_parallel_trainer.py:339 -- GPUs are detected in your Ray cluster, but GPU training is not enabled for this trainer. To enable GPU training, make sure to set `use_gpu` to True in your scaling config.\n"
     ]
    },
    {
     "name": "stdout",
     "output_type": "stream",
     "text": [
      "== Status ==\n",
      "Current time: 2025-09-08 19:16:21 (running for 00:00:00.12)\n",
      "Using FIFO scheduling algorithm.\n",
      "Logical resource usage: 2.0/20 CPUs, 0/1 GPUs (0.0/1.0 accelerator_type:G)\n",
      "Result logdir: C:/Users/fiona/AppData/Local/Temp/ray/session_2025-09-08_19-16-17_734065_1392/artifacts/2025-09-08_19-16-20/TorchTrainer_2025-09-08_19-16-20/driver_artifacts\n",
      "Number of trials: 1/1 (1 PENDING)\n",
      "\n",
      "\n"
     ]
    },
    {
     "name": "stderr",
     "output_type": "stream",
     "text": [
      "\u001b[36m(TorchTrainer pid=35244)\u001b[0m GPUs are detected in your Ray cluster, but GPU training is not enabled for this trainer. To enable GPU training, make sure to set `use_gpu` to True in your scaling config.\n"
     ]
    },
    {
     "name": "stdout",
     "output_type": "stream",
     "text": [
      "== Status ==\n",
      "Current time: 2025-09-08 19:16:26 (running for 00:00:05.14)\n",
      "Using FIFO scheduling algorithm.\n",
      "Logical resource usage: 2.0/20 CPUs, 0/1 GPUs (0.0/1.0 accelerator_type:G)\n",
      "Result logdir: C:/Users/fiona/AppData/Local/Temp/ray/session_2025-09-08_19-16-17_734065_1392/artifacts/2025-09-08_19-16-20/TorchTrainer_2025-09-08_19-16-20/driver_artifacts\n",
      "Number of trials: 1/1 (1 RUNNING)\n",
      "\n",
      "\n"
     ]
    },
    {
     "name": "stderr",
     "output_type": "stream",
     "text": [
      "\u001b[36m(RayTrainWorker pid=37128)\u001b[0m Setting up process group for: env:// [rank=0, world_size=1]\n",
      "\u001b[36m(RayTrainWorker pid=37128)\u001b[0m [W908 19:16:27.000000000 socket.cpp:755] [c10d] The client socket has failed to connect to [kubernetes.docker.internal]:53506 (system error: 10049 - The requested address is not valid in its context.).\n",
      "2025-09-08 19:16:27,902\tERROR tune_controller.py:1331 -- Trial task failed for trial TorchTrainer_ebc24_00000\n",
      "Traceback (most recent call last):\n",
      "  File \"c:\\Users\\fiona\\Documents\\GitHub\\Transformers\\transformers-mini\\.venv312\\Lib\\site-packages\\ray\\air\\execution\\_internal\\event_manager.py\", line 110, in resolve_future\n",
      "    result = ray.get(future)\n",
      "             ^^^^^^^^^^^^^^^\n",
      "  File \"c:\\Users\\fiona\\Documents\\GitHub\\Transformers\\transformers-mini\\.venv312\\Lib\\site-packages\\ray\\_private\\auto_init_hook.py\", line 22, in auto_init_wrapper\n",
      "    return fn(*args, **kwargs)\n",
      "           ^^^^^^^^^^^^^^^^^^^\n",
      "  File \"c:\\Users\\fiona\\Documents\\GitHub\\Transformers\\transformers-mini\\.venv312\\Lib\\site-packages\\ray\\_private\\client_mode_hook.py\", line 104, in wrapper\n",
      "    return func(*args, **kwargs)\n",
      "           ^^^^^^^^^^^^^^^^^^^^^\n",
      "  File \"c:\\Users\\fiona\\Documents\\GitHub\\Transformers\\transformers-mini\\.venv312\\Lib\\site-packages\\ray\\_private\\worker.py\", line 2882, in get\n",
      "    values, debugger_breakpoint = worker.get_objects(object_refs, timeout=timeout)\n",
      "                                  ^^^^^^^^^^^^^^^^^^^^^^^^^^^^^^^^^^^^^^^^^^^^^^^^\n",
      "  File \"c:\\Users\\fiona\\Documents\\GitHub\\Transformers\\transformers-mini\\.venv312\\Lib\\site-packages\\ray\\_private\\worker.py\", line 968, in get_objects\n",
      "    raise value.as_instanceof_cause()\n",
      "ray.exceptions.RayTaskError(RuntimeError): \u001b[36mray::_Inner.train()\u001b[39m (pid=35244, ip=127.0.0.1, actor_id=b827c7f9008168e43da0966f01000000, repr=TorchTrainer)\n",
      "  File \"python\\\\ray\\\\_raylet.pyx\", line 1936, in ray._raylet.execute_task\n",
      "  File \"python\\\\ray\\\\_raylet.pyx\", line 1876, in ray._raylet.execute_task.function_executor\n",
      "  File \"c:\\Users\\fiona\\Documents\\GitHub\\Transformers\\transformers-mini\\.venv312\\Lib\\site-packages\\ray\\_private\\function_manager.py\", line 689, in actor_method_executor\n",
      "    return method(__ray_actor, *args, **kwargs)\n",
      "           ^^^^^^^^^^^^^^^^^^^^^^^^^^^^^^^^^^^^\n",
      "  File \"c:\\Users\\fiona\\Documents\\GitHub\\Transformers\\transformers-mini\\.venv312\\Lib\\site-packages\\ray\\util\\tracing\\tracing_helper.py\", line 461, in _resume_span\n",
      "    return method(self, *_args, **_kwargs)\n",
      "           ^^^^^^^^^^^^^^^^^^^^^^^^^^^^^^^\n",
      "  File \"c:\\Users\\fiona\\Documents\\GitHub\\Transformers\\transformers-mini\\.venv312\\Lib\\site-packages\\ray\\tune\\trainable\\trainable.py\", line 331, in train\n",
      "    raise skipped from exception_cause(skipped)\n",
      "  File \"c:\\Users\\fiona\\Documents\\GitHub\\Transformers\\transformers-mini\\.venv312\\Lib\\site-packages\\ray\\air\\_internal\\util.py\", line 107, in run\n",
      "    self._ret = self._target(*self._args, **self._kwargs)\n",
      "                ^^^^^^^^^^^^^^^^^^^^^^^^^^^^^^^^^^^^^^^^^\n",
      "  File \"c:\\Users\\fiona\\Documents\\GitHub\\Transformers\\transformers-mini\\.venv312\\Lib\\site-packages\\ray\\tune\\trainable\\function_trainable.py\", line 45, in <lambda>\n",
      "    training_func=lambda: self._trainable_func(self.config),\n",
      "                          ^^^^^^^^^^^^^^^^^^^^^^^^^^^^^^^^^\n",
      "  File \"c:\\Users\\fiona\\Documents\\GitHub\\Transformers\\transformers-mini\\.venv312\\Lib\\site-packages\\ray\\util\\tracing\\tracing_helper.py\", line 461, in _resume_span\n",
      "    return method(self, *_args, **_kwargs)\n",
      "           ^^^^^^^^^^^^^^^^^^^^^^^^^^^^^^^\n",
      "  File \"c:\\Users\\fiona\\Documents\\GitHub\\Transformers\\transformers-mini\\.venv312\\Lib\\site-packages\\ray\\train\\base_trainer.py\", line 883, in _trainable_func\n",
      "    super()._trainable_func(self._merged_config)\n",
      "  File \"c:\\Users\\fiona\\Documents\\GitHub\\Transformers\\transformers-mini\\.venv312\\Lib\\site-packages\\ray\\tune\\trainable\\function_trainable.py\", line 261, in _trainable_func\n",
      "    output = fn()\n",
      "             ^^^^\n",
      "  File \"c:\\Users\\fiona\\Documents\\GitHub\\Transformers\\transformers-mini\\.venv312\\Lib\\site-packages\\ray\\train\\base_trainer.py\", line 123, in _train_coordinator_fn\n",
      "    trainer.training_loop()\n",
      "  File \"c:\\Users\\fiona\\Documents\\GitHub\\Transformers\\transformers-mini\\.venv312\\Lib\\site-packages\\ray\\train\\data_parallel_trainer.py\", line 458, in training_loop\n",
      "    backend_executor.start()\n",
      "  File \"c:\\Users\\fiona\\Documents\\GitHub\\Transformers\\transformers-mini\\.venv312\\Lib\\site-packages\\ray\\train\\_internal\\backend_executor.py\", line 214, in start\n",
      "    self._backend.on_start(self.worker_group, self._backend_config)\n",
      "  File \"c:\\Users\\fiona\\Documents\\GitHub\\Transformers\\transformers-mini\\.venv312\\Lib\\site-packages\\ray\\train\\torch\\config.py\", line 201, in on_start\n",
      "    ray.get(setup_futures)\n",
      "  File \"c:\\Users\\fiona\\Documents\\GitHub\\Transformers\\transformers-mini\\.venv312\\Lib\\site-packages\\ray\\_private\\auto_init_hook.py\", line 22, in auto_init_wrapper\n",
      "    return fn(*args, **kwargs)\n",
      "           ^^^^^^^^^^^^^^^^^^^\n",
      "  File \"c:\\Users\\fiona\\Documents\\GitHub\\Transformers\\transformers-mini\\.venv312\\Lib\\site-packages\\ray\\_private\\client_mode_hook.py\", line 104, in wrapper\n",
      "    return func(*args, **kwargs)\n",
      "           ^^^^^^^^^^^^^^^^^^^^^\n",
      "  File \"c:\\Users\\fiona\\Documents\\GitHub\\Transformers\\transformers-mini\\.venv312\\Lib\\site-packages\\ray\\_private\\worker.py\", line 2882, in get\n",
      "    values, debugger_breakpoint = worker.get_objects(object_refs, timeout=timeout)\n",
      "                                  ^^^^^^^^^^^^^^^^^^^^^^^^^^^^^^^^^^^^^^^^^^^^^^^^\n",
      "  File \"c:\\Users\\fiona\\Documents\\GitHub\\Transformers\\transformers-mini\\.venv312\\Lib\\site-packages\\ray\\_private\\worker.py\", line 968, in get_objects\n",
      "    raise value.as_instanceof_cause()\n",
      "ray.exceptions.RayTaskError(RuntimeError): \u001b[36mray::_RayTrainWorker__execute._setup_torch_process_group()\u001b[39m (pid=37128, ip=127.0.0.1, actor_id=ab090de4a48e34c82de859fc01000000, repr=<ray.train._internal.worker_group.RayTrainWorker object at 0x000001F44FFE9220>)\n",
      "  File \"python\\\\ray\\\\_raylet.pyx\", line 1936, in ray._raylet.execute_task\n",
      "  File \"python\\\\ray\\\\_raylet.pyx\", line 1876, in ray._raylet.execute_task.function_executor\n",
      "  File \"c:\\Users\\fiona\\Documents\\GitHub\\Transformers\\transformers-mini\\.venv312\\Lib\\site-packages\\ray\\_private\\function_manager.py\", line 689, in actor_method_executor\n",
      "    return method(__ray_actor, *args, **kwargs)\n",
      "           ^^^^^^^^^^^^^^^^^^^^^^^^^^^^^^^^^^^^\n",
      "  File \"c:\\Users\\fiona\\Documents\\GitHub\\Transformers\\transformers-mini\\.venv312\\Lib\\site-packages\\ray\\util\\tracing\\tracing_helper.py\", line 461, in _resume_span\n",
      "    return method(self, *_args, **_kwargs)\n",
      "           ^^^^^^^^^^^^^^^^^^^^^^^^^^^^^^^\n",
      "  File \"c:\\Users\\fiona\\Documents\\GitHub\\Transformers\\transformers-mini\\.venv312\\Lib\\site-packages\\ray\\train\\_internal\\worker_group.py\", line 33, in __execute\n",
      "    raise skipped from exception_cause(skipped)\n",
      "  File \"c:\\Users\\fiona\\Documents\\GitHub\\Transformers\\transformers-mini\\.venv312\\Lib\\site-packages\\ray\\train\\_internal\\worker_group.py\", line 30, in __execute\n",
      "    return func(*args, **kwargs)\n",
      "           ^^^^^^^^^^^^^^^^^^^^^\n",
      "  File \"c:\\Users\\fiona\\Documents\\GitHub\\Transformers\\transformers-mini\\.venv312\\Lib\\site-packages\\ray\\train\\torch\\config.py\", line 116, in _setup_torch_process_group\n",
      "    dist.init_process_group(\n",
      "  File \"c:\\Users\\fiona\\Documents\\GitHub\\Transformers\\transformers-mini\\.venv312\\Lib\\site-packages\\torch\\distributed\\c10d_logger.py\", line 81, in wrapper\n",
      "    return func(*args, **kwargs)\n",
      "           ^^^^^^^^^^^^^^^^^^^^^\n",
      "  File \"c:\\Users\\fiona\\Documents\\GitHub\\Transformers\\transformers-mini\\.venv312\\Lib\\site-packages\\torch\\distributed\\c10d_logger.py\", line 95, in wrapper\n",
      "    func_return = func(*args, **kwargs)\n",
      "                  ^^^^^^^^^^^^^^^^^^^^^\n",
      "  File \"c:\\Users\\fiona\\Documents\\GitHub\\Transformers\\transformers-mini\\.venv312\\Lib\\site-packages\\torch\\distributed\\distributed_c10d.py\", line 1764, in init_process_group\n",
      "    default_pg, _ = _new_process_group_helper(\n",
      "                    ^^^^^^^^^^^^^^^^^^^^^^^^^^\n",
      "  File \"c:\\Users\\fiona\\Documents\\GitHub\\Transformers\\transformers-mini\\.venv312\\Lib\\site-packages\\torch\\distributed\\distributed_c10d.py\", line 1991, in _new_process_group_helper\n",
      "    backend_class = ProcessGroupGloo(\n",
      "                    ^^^^^^^^^^^^^^^^^\n",
      "RuntimeError: makeDeviceForHostname(): unsupported gloo device\n",
      "2025-09-08 19:16:27,915\tINFO tune.py:1009 -- Wrote the latest version of all result files and experiment state to 'C:/Users/fiona/ray_results/TorchTrainer_2025-09-08_19-16-20' in 0.0080s.\n",
      "2025-09-08 19:16:27,918\tERROR tune.py:1037 -- Trials did not complete: [TorchTrainer_ebc24_00000]\n",
      "2025-09-08 19:16:27,918\tINFO tune.py:1041 -- Total run time: 6.97 seconds (6.96 seconds for the tuning loop).\n"
     ]
    },
    {
     "name": "stdout",
     "output_type": "stream",
     "text": [
      "== Status ==\n",
      "Current time: 2025-09-08 19:16:27 (running for 00:00:06.97)\n",
      "Using FIFO scheduling algorithm.\n",
      "Logical resource usage: 2.0/20 CPUs, 0/1 GPUs (0.0/1.0 accelerator_type:G)\n",
      "Result logdir: C:/Users/fiona/AppData/Local/Temp/ray/session_2025-09-08_19-16-17_734065_1392/artifacts/2025-09-08_19-16-20/TorchTrainer_2025-09-08_19-16-20/driver_artifacts\n",
      "Number of trials: 1/1 (1 ERROR)\n",
      "Number of errored trials: 1\n",
      "+--------------------------+--------------+------------------------------------------------------------------------------------------------------------------------------------------------------------------------------------------------------------------------+\n",
      "| Trial name               |   # failures | error file                                                                                                                                                                                                             |\n",
      "|--------------------------+--------------+------------------------------------------------------------------------------------------------------------------------------------------------------------------------------------------------------------------------|\n",
      "| TorchTrainer_ebc24_00000 |            1 | C:/Users/fiona/AppData/Local/Temp/ray/session_2025-09-08_19-16-17_734065_1392/artifacts/2025-09-08_19-16-20/TorchTrainer_2025-09-08_19-16-20/driver_artifacts/TorchTrainer_ebc24_00000_0_2025-09-08_19-16-20/error.txt |\n",
      "+--------------------------+--------------+------------------------------------------------------------------------------------------------------------------------------------------------------------------------------------------------------------------------+\n",
      "\n"
     ]
    },
    {
     "ename": "TrainingFailedError",
     "evalue": "The Ray Train run failed. Please inspect the previous error messages for a cause. After fixing the issue (assuming that the error is not caused by your own application logic, but rather an error such as OOM), you can restart the run from scratch or continue this run.\nTo continue this run, you can use: `trainer = TorchTrainer.restore(\"C:/Users/fiona/ray_results/TorchTrainer_2025-09-08_19-16-20\")`.\nTo start a new run that will retry on training failures, set `train.RunConfig(failure_config=train.FailureConfig(max_failures))` in the Trainer's `run_config` with `max_failures > 0`, or `max_failures = -1` for unlimited retries.",
     "output_type": "error",
     "traceback": [
      "\u001b[31m---------------------------------------------------------------------------\u001b[39m",
      "\u001b[31mRayTaskError(RuntimeError)\u001b[39m                Traceback (most recent call last)",
      "\u001b[31mRayTaskError(RuntimeError)\u001b[39m: \u001b[36mray::_Inner.train()\u001b[39m (pid=35244, ip=127.0.0.1, actor_id=b827c7f9008168e43da0966f01000000, repr=TorchTrainer)\n  File \"python\\\\ray\\\\_raylet.pyx\", line 1936, in ray._raylet.execute_task\n  File \"python\\\\ray\\\\_raylet.pyx\", line 1876, in ray._raylet.execute_task.function_executor\n  File \"c:\\Users\\fiona\\Documents\\GitHub\\Transformers\\transformers-mini\\.venv312\\Lib\\site-packages\\ray\\_private\\function_manager.py\", line 689, in actor_method_executor\n    return method(__ray_actor, *args, **kwargs)\n           ^^^^^^^^^^^^^^^^^^^^^^^^^^^^^^^^^^^^\n  File \"c:\\Users\\fiona\\Documents\\GitHub\\Transformers\\transformers-mini\\.venv312\\Lib\\site-packages\\ray\\util\\tracing\\tracing_helper.py\", line 461, in _resume_span\n    return method(self, *_args, **_kwargs)\n           ^^^^^^^^^^^^^^^^^^^^^^^^^^^^^^^\n  File \"c:\\Users\\fiona\\Documents\\GitHub\\Transformers\\transformers-mini\\.venv312\\Lib\\site-packages\\ray\\tune\\trainable\\trainable.py\", line 331, in train\n    raise skipped from exception_cause(skipped)\n  File \"c:\\Users\\fiona\\Documents\\GitHub\\Transformers\\transformers-mini\\.venv312\\Lib\\site-packages\\ray\\air\\_internal\\util.py\", line 107, in run\n    self._ret = self._target(*self._args, **self._kwargs)\n                ^^^^^^^^^^^^^^^^^^^^^^^^^^^^^^^^^^^^^^^^^\n  File \"c:\\Users\\fiona\\Documents\\GitHub\\Transformers\\transformers-mini\\.venv312\\Lib\\site-packages\\ray\\tune\\trainable\\function_trainable.py\", line 45, in <lambda>\n    training_func=lambda: self._trainable_func(self.config),\n                          ^^^^^^^^^^^^^^^^^^^^^^^^^^^^^^^^^\n  File \"c:\\Users\\fiona\\Documents\\GitHub\\Transformers\\transformers-mini\\.venv312\\Lib\\site-packages\\ray\\util\\tracing\\tracing_helper.py\", line 461, in _resume_span\n    return method(self, *_args, **_kwargs)\n           ^^^^^^^^^^^^^^^^^^^^^^^^^^^^^^^\n  File \"c:\\Users\\fiona\\Documents\\GitHub\\Transformers\\transformers-mini\\.venv312\\Lib\\site-packages\\ray\\train\\base_trainer.py\", line 883, in _trainable_func\n    super()._trainable_func(self._merged_config)\n  File \"c:\\Users\\fiona\\Documents\\GitHub\\Transformers\\transformers-mini\\.venv312\\Lib\\site-packages\\ray\\tune\\trainable\\function_trainable.py\", line 261, in _trainable_func\n    output = fn()\n             ^^^^\n  File \"c:\\Users\\fiona\\Documents\\GitHub\\Transformers\\transformers-mini\\.venv312\\Lib\\site-packages\\ray\\train\\base_trainer.py\", line 123, in _train_coordinator_fn\n    trainer.training_loop()\n  File \"c:\\Users\\fiona\\Documents\\GitHub\\Transformers\\transformers-mini\\.venv312\\Lib\\site-packages\\ray\\train\\data_parallel_trainer.py\", line 458, in training_loop\n    backend_executor.start()\n  File \"c:\\Users\\fiona\\Documents\\GitHub\\Transformers\\transformers-mini\\.venv312\\Lib\\site-packages\\ray\\train\\_internal\\backend_executor.py\", line 214, in start\n    self._backend.on_start(self.worker_group, self._backend_config)\n  File \"c:\\Users\\fiona\\Documents\\GitHub\\Transformers\\transformers-mini\\.venv312\\Lib\\site-packages\\ray\\train\\torch\\config.py\", line 201, in on_start\n    ray.get(setup_futures)\n  File \"c:\\Users\\fiona\\Documents\\GitHub\\Transformers\\transformers-mini\\.venv312\\Lib\\site-packages\\ray\\_private\\auto_init_hook.py\", line 22, in auto_init_wrapper\n    return fn(*args, **kwargs)\n           ^^^^^^^^^^^^^^^^^^^\n  File \"c:\\Users\\fiona\\Documents\\GitHub\\Transformers\\transformers-mini\\.venv312\\Lib\\site-packages\\ray\\_private\\client_mode_hook.py\", line 104, in wrapper\n    return func(*args, **kwargs)\n           ^^^^^^^^^^^^^^^^^^^^^\n  File \"c:\\Users\\fiona\\Documents\\GitHub\\Transformers\\transformers-mini\\.venv312\\Lib\\site-packages\\ray\\_private\\worker.py\", line 2882, in get\n    values, debugger_breakpoint = worker.get_objects(object_refs, timeout=timeout)\n                                  ^^^^^^^^^^^^^^^^^^^^^^^^^^^^^^^^^^^^^^^^^^^^^^^^\n  File \"c:\\Users\\fiona\\Documents\\GitHub\\Transformers\\transformers-mini\\.venv312\\Lib\\site-packages\\ray\\_private\\worker.py\", line 968, in get_objects\n    raise value.as_instanceof_cause()\nray.exceptions.RayTaskError(RuntimeError): \u001b[36mray::_RayTrainWorker__execute._setup_torch_process_group()\u001b[39m (pid=37128, ip=127.0.0.1, actor_id=ab090de4a48e34c82de859fc01000000, repr=<ray.train._internal.worker_group.RayTrainWorker object at 0x000001F44FFE9220>)\n  File \"python\\\\ray\\\\_raylet.pyx\", line 1936, in ray._raylet.execute_task\n  File \"python\\\\ray\\\\_raylet.pyx\", line 1876, in ray._raylet.execute_task.function_executor\n  File \"c:\\Users\\fiona\\Documents\\GitHub\\Transformers\\transformers-mini\\.venv312\\Lib\\site-packages\\ray\\_private\\function_manager.py\", line 689, in actor_method_executor\n    return method(__ray_actor, *args, **kwargs)\n           ^^^^^^^^^^^^^^^^^^^^^^^^^^^^^^^^^^^^\n  File \"c:\\Users\\fiona\\Documents\\GitHub\\Transformers\\transformers-mini\\.venv312\\Lib\\site-packages\\ray\\util\\tracing\\tracing_helper.py\", line 461, in _resume_span\n    return method(self, *_args, **_kwargs)\n           ^^^^^^^^^^^^^^^^^^^^^^^^^^^^^^^\n  File \"c:\\Users\\fiona\\Documents\\GitHub\\Transformers\\transformers-mini\\.venv312\\Lib\\site-packages\\ray\\train\\_internal\\worker_group.py\", line 33, in __execute\n    raise skipped from exception_cause(skipped)\n  File \"c:\\Users\\fiona\\Documents\\GitHub\\Transformers\\transformers-mini\\.venv312\\Lib\\site-packages\\ray\\train\\_internal\\worker_group.py\", line 30, in __execute\n    return func(*args, **kwargs)\n           ^^^^^^^^^^^^^^^^^^^^^\n  File \"c:\\Users\\fiona\\Documents\\GitHub\\Transformers\\transformers-mini\\.venv312\\Lib\\site-packages\\ray\\train\\torch\\config.py\", line 116, in _setup_torch_process_group\n    dist.init_process_group(\n  File \"c:\\Users\\fiona\\Documents\\GitHub\\Transformers\\transformers-mini\\.venv312\\Lib\\site-packages\\torch\\distributed\\c10d_logger.py\", line 81, in wrapper\n    return func(*args, **kwargs)\n           ^^^^^^^^^^^^^^^^^^^^^\n  File \"c:\\Users\\fiona\\Documents\\GitHub\\Transformers\\transformers-mini\\.venv312\\Lib\\site-packages\\torch\\distributed\\c10d_logger.py\", line 95, in wrapper\n    func_return = func(*args, **kwargs)\n                  ^^^^^^^^^^^^^^^^^^^^^\n  File \"c:\\Users\\fiona\\Documents\\GitHub\\Transformers\\transformers-mini\\.venv312\\Lib\\site-packages\\torch\\distributed\\distributed_c10d.py\", line 1764, in init_process_group\n    default_pg, _ = _new_process_group_helper(\n                    ^^^^^^^^^^^^^^^^^^^^^^^^^^\n  File \"c:\\Users\\fiona\\Documents\\GitHub\\Transformers\\transformers-mini\\.venv312\\Lib\\site-packages\\torch\\distributed\\distributed_c10d.py\", line 1991, in _new_process_group_helper\n    backend_class = ProcessGroupGloo(\n                    ^^^^^^^^^^^^^^^^^\nRuntimeError: makeDeviceForHostname(): unsupported gloo device",
      "\nThe above exception was the direct cause of the following exception:\n",
      "\u001b[31mTrainingFailedError\u001b[39m                       Traceback (most recent call last)",
      "\u001b[36mCell\u001b[39m\u001b[36m \u001b[39m\u001b[32mIn[48]\u001b[39m\u001b[32m, line 41\u001b[39m\n\u001b[32m     35\u001b[39m ray.shutdown(); ray.init(ignore_reinit_error=\u001b[38;5;28;01mTrue\u001b[39;00m)\n\u001b[32m     36\u001b[39m trainer = TorchTrainer(\n\u001b[32m     37\u001b[39m     train_loop_per_worker=train_loop_per_worker,\n\u001b[32m     38\u001b[39m     scaling_config=ScalingConfig(num_workers=\u001b[32m1\u001b[39m, use_gpu=\u001b[38;5;28;01mFalse\u001b[39;00m),  \u001b[38;5;66;03m# keep Windows-happy\u001b[39;00m\n\u001b[32m     39\u001b[39m     train_loop_config={\u001b[33m\"\u001b[39m\u001b[33mlr\u001b[39m\u001b[33m\"\u001b[39m:\u001b[32m0.2\u001b[39m, \u001b[33m\"\u001b[39m\u001b[33msteps\u001b[39m\u001b[33m\"\u001b[39m:\u001b[32m300\u001b[39m, \u001b[33m\"\u001b[39m\u001b[33mbatch_size\u001b[39m\u001b[33m\"\u001b[39m:\u001b[32m128\u001b[39m},\n\u001b[32m     40\u001b[39m )\n\u001b[32m---> \u001b[39m\u001b[32m41\u001b[39m result = \u001b[43mtrainer\u001b[49m\u001b[43m.\u001b[49m\u001b[43mfit\u001b[49m\u001b[43m(\u001b[49m\u001b[43m)\u001b[49m\n\u001b[32m     42\u001b[39m \u001b[38;5;28mprint\u001b[39m(\u001b[33m\"\u001b[39m\u001b[33mTrain result:\u001b[39m\u001b[33m\"\u001b[39m, result)\n\u001b[32m     43\u001b[39m ray.shutdown()\n",
      "\u001b[36mFile \u001b[39m\u001b[32mc:\\Users\\fiona\\Documents\\GitHub\\Transformers\\transformers-mini\\.venv312\\Lib\\site-packages\\ray\\train\\base_trainer.py:722\u001b[39m, in \u001b[36mBaseTrainer.fit\u001b[39m\u001b[34m(self)\u001b[39m\n\u001b[32m    718\u001b[39m result = result_grid[\u001b[32m0\u001b[39m]\n\u001b[32m    719\u001b[39m \u001b[38;5;28;01mif\u001b[39;00m result.error:\n\u001b[32m    720\u001b[39m     \u001b[38;5;66;03m# Raise trainable errors to the user with a message to restore\u001b[39;00m\n\u001b[32m    721\u001b[39m     \u001b[38;5;66;03m# or configure `FailureConfig` in a new run.\u001b[39;00m\n\u001b[32m--> \u001b[39m\u001b[32m722\u001b[39m     \u001b[38;5;28;01mraise\u001b[39;00m TrainingFailedError(\n\u001b[32m    723\u001b[39m         \u001b[33m\"\u001b[39m\u001b[38;5;130;01m\\n\u001b[39;00m\u001b[33m\"\u001b[39m.join([restore_msg, TrainingFailedError._FAILURE_CONFIG_MSG])\n\u001b[32m    724\u001b[39m     ) \u001b[38;5;28;01mfrom\u001b[39;00m\u001b[38;5;250m \u001b[39m\u001b[34;01mresult\u001b[39;00m\u001b[34;01m.\u001b[39;00m\u001b[34;01merror\u001b[39;00m\n\u001b[32m    725\u001b[39m \u001b[38;5;28;01mreturn\u001b[39;00m result\n",
      "\u001b[31mTrainingFailedError\u001b[39m: The Ray Train run failed. Please inspect the previous error messages for a cause. After fixing the issue (assuming that the error is not caused by your own application logic, but rather an error such as OOM), you can restart the run from scratch or continue this run.\nTo continue this run, you can use: `trainer = TorchTrainer.restore(\"C:/Users/fiona/ray_results/TorchTrainer_2025-09-08_19-16-20\")`.\nTo start a new run that will retry on training failures, set `train.RunConfig(failure_config=train.FailureConfig(max_failures))` in the Trainer's `run_config` with `max_failures > 0`, or `max_failures = -1` for unlimited retries."
     ]
    }
   ],
   "source": [
    "%pip install -qU ray\n",
    "import ray\n",
    "from ray.train import ScalingConfig\n",
    "from ray.train.torch import TorchTrainer   # we’ll just use it as a generic trainer\n",
    "\n",
    "import numpy as np\n",
    "\n",
    "def train_loop_per_worker(config):\n",
    "    # y = 2x + 1 with noise; fit w via GD\n",
    "    rng = np.random.default_rng(0)\n",
    "    X = rng.normal(size=(2000, 1))\n",
    "    y = 2*X + 1 + 0.1 * rng.normal(size=(2000, 1))\n",
    "\n",
    "    w = np.zeros((1,1))\n",
    "    b = np.zeros((1,))\n",
    "    lr = config.get(\"lr\", 0.1)\n",
    "    steps = config.get(\"steps\", 200)\n",
    "    bs = config.get(\"batch_size\", 64)\n",
    "\n",
    "    for t in range(steps):\n",
    "        idx = rng.integers(0, len(X), size=(bs,))\n",
    "        xb, yb = X[idx], y[idx]\n",
    "        preds = xb @ w + b\n",
    "        err = preds - yb\n",
    "        # grads\n",
    "        gw = (xb.T @ err) / bs\n",
    "        gb = err.mean(axis=0)\n",
    "        # update\n",
    "        w -= lr * gw\n",
    "        b -= lr * gb\n",
    "    # report simple metric\n",
    "    final_mse = float(((X @ w + b - y)**2).mean())\n",
    "    return {\"mse\": final_mse, \"w\": float(w[0,0]), \"b\": float(b[0])}\n",
    "\n",
    "ray.shutdown(); ray.init(ignore_reinit_error=True)\n",
    "trainer = TorchTrainer(\n",
    "    train_loop_per_worker=train_loop_per_worker,\n",
    "    scaling_config=ScalingConfig(num_workers=1, use_gpu=False),  # keep Windows-happy\n",
    "    train_loop_config={\"lr\":0.2, \"steps\":300, \"batch_size\":128},\n",
    ")\n",
    "result = trainer.fit()\n",
    "print(\"Train result:\", result)\n",
    "ray.shutdown()\n"
   ]
  },
  {
   "cell_type": "code",
   "execution_count": null,
   "id": "0563fb55",
   "metadata": {},
   "outputs": [],
   "source": [
    "%pip install -qU ray[serve]\n",
    "import ray\n",
    "from ray import serve\n",
    "\n",
    "ray.shutdown(); ray.init(ignore_reinit_error=True)\n",
    "serve.shutdown()\n",
    "serve.start(detached=False)\n",
    "\n",
    "@serve.deployment(num_replicas=2)   # scale horizontally\n",
    "class Doubler:\n",
    "    def __call__(self, x: int) -> int:\n",
    "        return x * 2\n",
    "\n",
    "Doubler.deploy()\n",
    "handle = Doubler.get_handle()\n",
    "print(await handle.remote(21))   # in notebooks, you can `await` directly\n",
    "\n",
    "await serve.shutdown()\n",
    "ray.shutdown()\n"
   ]
  }
 ],
 "metadata": {
  "kernelspec": {
   "display_name": "Python 3.12 (rivian-pt312)",
   "language": "python",
   "name": "rivian-pt312"
  },
  "language_info": {
   "codemirror_mode": {
    "name": "ipython",
    "version": 3
   },
   "file_extension": ".py",
   "mimetype": "text/x-python",
   "name": "python",
   "nbconvert_exporter": "python",
   "pygments_lexer": "ipython3",
   "version": "3.12.10"
  }
 },
 "nbformat": 4,
 "nbformat_minor": 5
}
